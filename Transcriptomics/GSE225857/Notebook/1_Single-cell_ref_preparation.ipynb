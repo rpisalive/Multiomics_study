{
 "cells": [
  {
   "cell_type": "markdown",
   "id": "3381532a-8e3e-476a-90ed-d66a21c745db",
   "metadata": {},
   "source": [
    "Libraries loading"
   ]
  },
  {
   "cell_type": "code",
   "execution_count": 3,
   "id": "c869d17b-5f5d-448f-af03-f8bec2100f47",
   "metadata": {},
   "outputs": [],
   "source": [
    "import matplotlib.pyplot as plt\n",
    "import numpy as np\n",
    "import scanpy as sc\n",
    "import seaborn as sns\n",
    "import pandas as pd\n",
    "import anndata as ad\n",
    "from scipy import sparse"
   ]
  },
  {
   "cell_type": "markdown",
   "id": "56580efb-2f9d-4d10-8e5f-1c635e39fc5a",
   "metadata": {},
   "source": [
    "Path & name definition"
   ]
  },
  {
   "cell_type": "code",
   "execution_count": 4,
   "id": "a9117dca-8846-49d8-9487-efa7896be4f9",
   "metadata": {},
   "outputs": [],
   "source": [
    "slice_name = \"C1\"\n",
    "spa_path = \"/parallel_scratch/mp01950/Hybrid_cell_spatial/\"\n",
    "acc_no = \"GSE225857/\"\n",
    "slice_loc = \"spatial/\"+slice_name+\"/\"\n",
    "full_slice_path = spa_path+acc_no+slice_loc"
   ]
  },
  {
   "cell_type": "markdown",
   "id": "351e7a06-f4fb-4a54-a75b-75e722447703",
   "metadata": {},
   "source": [
    "Single-cell data loadin, merging and formatting"
   ]
  },
  {
   "cell_type": "code",
   "execution_count": 4,
   "id": "c490dd76-015a-4efd-81bb-3632a7966c57",
   "metadata": {},
   "outputs": [
    {
     "name": "stderr",
     "output_type": "stream",
     "text": [
      "\n",
      "KeyboardInterrupt\n",
      "\n"
     ]
    },
    {
     "ename": "KeyboardInterrupt",
     "evalue": "",
     "output_type": "error",
     "traceback": [
      "\u001b[31m---------------------------------------------------------------------------\u001b[39m",
      "\u001b[31mKeyboardInterrupt\u001b[39m                         Traceback (most recent call last)",
      "\u001b[36mFile \u001b[39m\u001b[32m~/.conda/envs/scvi-env/lib/python3.12/site-packages/IPython/core/async_helpers.py:128\u001b[39m, in \u001b[36m_pseudo_sync_runner\u001b[39m\u001b[34m(coro)\u001b[39m\n\u001b[32m    120\u001b[39m \u001b[38;5;250m\u001b[39m\u001b[33;03m\"\"\"\u001b[39;00m\n\u001b[32m    121\u001b[39m \u001b[33;03mA runner that does not really allow async execution, and just advance the coroutine.\u001b[39;00m\n\u001b[32m    122\u001b[39m \n\u001b[32m   (...)\u001b[39m\u001b[32m    125\u001b[39m \u001b[33;03mCredit to Nathaniel Smith\u001b[39;00m\n\u001b[32m    126\u001b[39m \u001b[33;03m\"\"\"\u001b[39;00m\n\u001b[32m    127\u001b[39m \u001b[38;5;28;01mtry\u001b[39;00m:\n\u001b[32m--> \u001b[39m\u001b[32m128\u001b[39m     coro.send(\u001b[38;5;28;01mNone\u001b[39;00m)\n\u001b[32m    129\u001b[39m \u001b[38;5;28;01mexcept\u001b[39;00m \u001b[38;5;167;01mStopIteration\u001b[39;00m \u001b[38;5;28;01mas\u001b[39;00m exc:\n\u001b[32m    130\u001b[39m     \u001b[38;5;28;01mreturn\u001b[39;00m exc.value\n",
      "\u001b[36mFile \u001b[39m\u001b[32m~/.conda/envs/scvi-env/lib/python3.12/site-packages/IPython/core/interactiveshell.py:3381\u001b[39m, in \u001b[36mInteractiveShell.run_cell_async\u001b[39m\u001b[34m(self, raw_cell, store_history, silent, shell_futures, transformed_cell, preprocessing_exc_tuple, cell_id)\u001b[39m\n\u001b[32m   3377\u001b[39m exec_count = \u001b[38;5;28mself\u001b[39m.execution_count\n\u001b[32m   3378\u001b[39m \u001b[38;5;28;01mif\u001b[39;00m result.error_in_exec:\n\u001b[32m   3379\u001b[39m     \u001b[38;5;66;03m# Store formatted traceback and error details\u001b[39;00m\n\u001b[32m   3380\u001b[39m     \u001b[38;5;28mself\u001b[39m.history_manager.exceptions[exec_count] = (\n\u001b[32m-> \u001b[39m\u001b[32m3381\u001b[39m         \u001b[38;5;28mself\u001b[39m._format_exception_for_storage(result.error_in_exec)\n\u001b[32m   3382\u001b[39m     )\n\u001b[32m   3384\u001b[39m \u001b[38;5;66;03m# Each cell is a *single* input, regardless of how many lines it has\u001b[39;00m\n\u001b[32m   3385\u001b[39m \u001b[38;5;28mself\u001b[39m.execution_count += \u001b[32m1\u001b[39m\n",
      "\u001b[36mFile \u001b[39m\u001b[32m~/.conda/envs/scvi-env/lib/python3.12/site-packages/IPython/core/interactiveshell.py:3435\u001b[39m, in \u001b[36mInteractiveShell._format_exception_for_storage\u001b[39m\u001b[34m(self, exception, filename, running_compiled_code)\u001b[39m\n\u001b[32m   3432\u001b[39m         stb = evalue._render_traceback_()\n\u001b[32m   3433\u001b[39m     \u001b[38;5;28;01melse\u001b[39;00m:\n\u001b[32m   3434\u001b[39m         \u001b[38;5;66;03m# Otherwise, use InteractiveTB to format the traceback.\u001b[39;00m\n\u001b[32m-> \u001b[39m\u001b[32m3435\u001b[39m         stb = \u001b[38;5;28mself\u001b[39m.InteractiveTB.structured_traceback(\n\u001b[32m   3436\u001b[39m             etype, evalue, tb, tb_offset=\u001b[32m1\u001b[39m\n\u001b[32m   3437\u001b[39m         )\n\u001b[32m   3438\u001b[39m \u001b[38;5;28;01mexcept\u001b[39;00m \u001b[38;5;167;01mException\u001b[39;00m:\n\u001b[32m   3439\u001b[39m     \u001b[38;5;66;03m# In case formatting fails, fallback to Python's built-in formatting.\u001b[39;00m\n\u001b[32m   3440\u001b[39m     stb = traceback.format_exception(etype, evalue, tb)\n",
      "\u001b[36mFile \u001b[39m\u001b[32m~/.conda/envs/scvi-env/lib/python3.12/site-packages/IPython/core/ultratb.py:1182\u001b[39m, in \u001b[36mAutoFormattedTB.structured_traceback\u001b[39m\u001b[34m(self, etype, evalue, etb, tb_offset, context)\u001b[39m\n\u001b[32m   1180\u001b[39m \u001b[38;5;28;01melse\u001b[39;00m:\n\u001b[32m   1181\u001b[39m     \u001b[38;5;28mself\u001b[39m.tb = etb\n\u001b[32m-> \u001b[39m\u001b[32m1182\u001b[39m \u001b[38;5;28;01mreturn\u001b[39;00m FormattedTB.structured_traceback(\n\u001b[32m   1183\u001b[39m     \u001b[38;5;28mself\u001b[39m, etype, evalue, etb, tb_offset, context\n\u001b[32m   1184\u001b[39m )\n",
      "\u001b[36mFile \u001b[39m\u001b[32m~/.conda/envs/scvi-env/lib/python3.12/site-packages/IPython/core/ultratb.py:1053\u001b[39m, in \u001b[36mFormattedTB.structured_traceback\u001b[39m\u001b[34m(self, etype, evalue, etb, tb_offset, context)\u001b[39m\n\u001b[32m   1050\u001b[39m mode = \u001b[38;5;28mself\u001b[39m.mode\n\u001b[32m   1051\u001b[39m \u001b[38;5;28;01mif\u001b[39;00m mode \u001b[38;5;129;01min\u001b[39;00m \u001b[38;5;28mself\u001b[39m.verbose_modes:\n\u001b[32m   1052\u001b[39m     \u001b[38;5;66;03m# Verbose modes need a full traceback\u001b[39;00m\n\u001b[32m-> \u001b[39m\u001b[32m1053\u001b[39m     \u001b[38;5;28;01mreturn\u001b[39;00m VerboseTB.structured_traceback(\n\u001b[32m   1054\u001b[39m         \u001b[38;5;28mself\u001b[39m, etype, evalue, etb, tb_offset, context\n\u001b[32m   1055\u001b[39m     )\n\u001b[32m   1056\u001b[39m \u001b[38;5;28;01melif\u001b[39;00m mode == \u001b[33m\"\u001b[39m\u001b[33mDocs\u001b[39m\u001b[33m\"\u001b[39m:\n\u001b[32m   1057\u001b[39m     \u001b[38;5;66;03m# return DocTB\u001b[39;00m\n\u001b[32m   1058\u001b[39m     \u001b[38;5;28;01mreturn\u001b[39;00m DocTB(\n\u001b[32m   1059\u001b[39m         theme_name=\u001b[38;5;28mself\u001b[39m._theme_name,\n\u001b[32m   1060\u001b[39m         call_pdb=\u001b[38;5;28mself\u001b[39m.call_pdb,\n\u001b[32m   (...)\u001b[39m\u001b[32m   1068\u001b[39m         etype, evalue, etb, tb_offset, \u001b[32m1\u001b[39m\n\u001b[32m   1069\u001b[39m     )  \u001b[38;5;66;03m# type: ignore[arg-type]\u001b[39;00m\n",
      "\u001b[36mFile \u001b[39m\u001b[32m~/.conda/envs/scvi-env/lib/python3.12/site-packages/IPython/core/ultratb.py:861\u001b[39m, in \u001b[36mVerboseTB.structured_traceback\u001b[39m\u001b[34m(self, etype, evalue, etb, tb_offset, context)\u001b[39m\n\u001b[32m    852\u001b[39m \u001b[38;5;28;01mdef\u001b[39;00m\u001b[38;5;250m \u001b[39m\u001b[34mstructured_traceback\u001b[39m(\n\u001b[32m    853\u001b[39m     \u001b[38;5;28mself\u001b[39m,\n\u001b[32m    854\u001b[39m     etype: \u001b[38;5;28mtype\u001b[39m,\n\u001b[32m   (...)\u001b[39m\u001b[32m    858\u001b[39m     context: \u001b[38;5;28mint\u001b[39m = \u001b[32m5\u001b[39m,\n\u001b[32m    859\u001b[39m ) -> \u001b[38;5;28mlist\u001b[39m[\u001b[38;5;28mstr\u001b[39m]:\n\u001b[32m    860\u001b[39m \u001b[38;5;250m    \u001b[39m\u001b[33;03m\"\"\"Return a nice text document describing the traceback.\"\"\"\u001b[39;00m\n\u001b[32m--> \u001b[39m\u001b[32m861\u001b[39m     formatted_exceptions: \u001b[38;5;28mlist\u001b[39m[\u001b[38;5;28mlist\u001b[39m[\u001b[38;5;28mstr\u001b[39m]] = \u001b[38;5;28mself\u001b[39m.format_exception_as_a_whole(\n\u001b[32m    862\u001b[39m         etype, evalue, etb, context, tb_offset\n\u001b[32m    863\u001b[39m     )\n\u001b[32m    865\u001b[39m     termsize = \u001b[38;5;28mmin\u001b[39m(\u001b[32m75\u001b[39m, get_terminal_size()[\u001b[32m0\u001b[39m])\n\u001b[32m    866\u001b[39m     theme = theme_table[\u001b[38;5;28mself\u001b[39m._theme_name]\n",
      "\u001b[36mFile \u001b[39m\u001b[32m~/.conda/envs/scvi-env/lib/python3.12/site-packages/IPython/core/ultratb.py:746\u001b[39m, in \u001b[36mVerboseTB.format_exception_as_a_whole\u001b[39m\u001b[34m(self, etype, evalue, etb, context, tb_offset)\u001b[39m\n\u001b[32m    744\u001b[39m \u001b[38;5;28;01massert\u001b[39;00m \u001b[38;5;28misinstance\u001b[39m(tb_offset, \u001b[38;5;28mint\u001b[39m)\n\u001b[32m    745\u001b[39m head = \u001b[38;5;28mself\u001b[39m.prepare_header(\u001b[38;5;28mstr\u001b[39m(etype), \u001b[38;5;28mself\u001b[39m.long_header)\n\u001b[32m--> \u001b[39m\u001b[32m746\u001b[39m records = \u001b[38;5;28mself\u001b[39m.get_records(etb, context, tb_offset) \u001b[38;5;28;01mif\u001b[39;00m etb \u001b[38;5;28;01melse\u001b[39;00m []\n\u001b[32m    748\u001b[39m frames = []\n\u001b[32m    749\u001b[39m skipped = \u001b[32m0\u001b[39m\n",
      "\u001b[36mFile \u001b[39m\u001b[32m~/.conda/envs/scvi-env/lib/python3.12/site-packages/IPython/core/ultratb.py:819\u001b[39m, in \u001b[36mVerboseTB.get_records\u001b[39m\u001b[34m(self, etb, context, tb_offset)\u001b[39m\n\u001b[32m    817\u001b[39m \u001b[38;5;28;01mwhile\u001b[39;00m cf \u001b[38;5;129;01mis\u001b[39;00m \u001b[38;5;129;01mnot\u001b[39;00m \u001b[38;5;28;01mNone\u001b[39;00m:\n\u001b[32m    818\u001b[39m     \u001b[38;5;28;01mtry\u001b[39;00m:\n\u001b[32m--> \u001b[39m\u001b[32m819\u001b[39m         mod = inspect.getmodule(cf.tb_frame)\n\u001b[32m    820\u001b[39m         \u001b[38;5;28;01mif\u001b[39;00m mod \u001b[38;5;129;01mis\u001b[39;00m \u001b[38;5;129;01mnot\u001b[39;00m \u001b[38;5;28;01mNone\u001b[39;00m:\n\u001b[32m    821\u001b[39m             mod_name = mod.\u001b[34m__name__\u001b[39m\n",
      "\u001b[36mFile \u001b[39m\u001b[32m~/.conda/envs/scvi-env/lib/python3.12/inspect.py:1010\u001b[39m, in \u001b[36mgetmodule\u001b[39m\u001b[34m(object, _filename)\u001b[39m\n\u001b[32m   1008\u001b[39m     \u001b[38;5;28;01mcontinue\u001b[39;00m\n\u001b[32m   1009\u001b[39m _filesbymodname[modname] = f\n\u001b[32m-> \u001b[39m\u001b[32m1010\u001b[39m f = getabsfile(module)\n\u001b[32m   1011\u001b[39m \u001b[38;5;66;03m# Always map to the name the module knows itself by\u001b[39;00m\n\u001b[32m   1012\u001b[39m modulesbyfile[f] = modulesbyfile[\n\u001b[32m   1013\u001b[39m     os.path.realpath(f)] = module.\u001b[34m__name__\u001b[39m\n",
      "\u001b[36mFile \u001b[39m\u001b[32m~/.conda/envs/scvi-env/lib/python3.12/inspect.py:979\u001b[39m, in \u001b[36mgetabsfile\u001b[39m\u001b[34m(object, _filename)\u001b[39m\n\u001b[32m    974\u001b[39m \u001b[38;5;250m\u001b[39m\u001b[33;03m\"\"\"Return an absolute path to the source or compiled file for an object.\u001b[39;00m\n\u001b[32m    975\u001b[39m \n\u001b[32m    976\u001b[39m \u001b[33;03mThe idea is for each object to have a unique origin, so this routine\u001b[39;00m\n\u001b[32m    977\u001b[39m \u001b[33;03mnormalizes the result as much as possible.\"\"\"\u001b[39;00m\n\u001b[32m    978\u001b[39m \u001b[38;5;28;01mif\u001b[39;00m _filename \u001b[38;5;129;01mis\u001b[39;00m \u001b[38;5;28;01mNone\u001b[39;00m:\n\u001b[32m--> \u001b[39m\u001b[32m979\u001b[39m     _filename = getsourcefile(\u001b[38;5;28mobject\u001b[39m) \u001b[38;5;129;01mor\u001b[39;00m getfile(\u001b[38;5;28mobject\u001b[39m)\n\u001b[32m    980\u001b[39m \u001b[38;5;28;01mreturn\u001b[39;00m os.path.normcase(os.path.abspath(_filename))\n",
      "\u001b[36mFile \u001b[39m\u001b[32m~/.conda/envs/scvi-env/lib/python3.12/inspect.py:964\u001b[39m, in \u001b[36mgetsourcefile\u001b[39m\u001b[34m(object)\u001b[39m\n\u001b[32m    962\u001b[39m \u001b[38;5;28;01mif\u001b[39;00m filename \u001b[38;5;129;01min\u001b[39;00m linecache.cache:\n\u001b[32m    963\u001b[39m     \u001b[38;5;28;01mreturn\u001b[39;00m filename\n\u001b[32m--> \u001b[39m\u001b[32m964\u001b[39m \u001b[38;5;28;01mif\u001b[39;00m os.path.exists(filename):\n\u001b[32m    965\u001b[39m     \u001b[38;5;28;01mreturn\u001b[39;00m filename\n\u001b[32m    966\u001b[39m \u001b[38;5;66;03m# only return a non-existent filename if the module has a PEP 302 loader\u001b[39;00m\n",
      "\u001b[36mFile \u001b[39m\u001b[32m~/.conda/envs/scvi-env/lib/python3.12/genericpath.py:19\u001b[39m, in \u001b[36mexists\u001b[39m\u001b[34m(path)\u001b[39m\n\u001b[32m     17\u001b[39m \u001b[38;5;250m\u001b[39m\u001b[33;03m\"\"\"Test whether a path exists.  Returns False for broken symbolic links\"\"\"\u001b[39;00m\n\u001b[32m     18\u001b[39m \u001b[38;5;28;01mtry\u001b[39;00m:\n\u001b[32m---> \u001b[39m\u001b[32m19\u001b[39m     os.stat(path)\n\u001b[32m     20\u001b[39m \u001b[38;5;28;01mexcept\u001b[39;00m (\u001b[38;5;167;01mOSError\u001b[39;00m, \u001b[38;5;167;01mValueError\u001b[39;00m):\n\u001b[32m     21\u001b[39m     \u001b[38;5;28;01mreturn\u001b[39;00m \u001b[38;5;28;01mFalse\u001b[39;00m\n",
      "\u001b[31mKeyboardInterrupt\u001b[39m: "
     ]
    }
   ],
   "source": [
    "sc_immune_ref = sc.read_text(spa_path+acc_no+\"scRNA/GSM7058754_immune_counts.txt.gz\", delimiter='\\t', first_column_names=True)\n",
    "sc_nonim_ref = sc.read_text(spa_path+acc_no+\"scRNA/GSM7058755_non_immune_counts.txt.gz\", delimiter='\\t', first_column_names=True)\n",
    "#Transpose cell_id & features\n",
    "sc_immune_ref = sc_immune_ref.T\n",
    "sc_nonim_ref = sc_nonim_ref.T\n",
    "# Convert to sparse format\n",
    "sc_immune_ref.X = sparse.csr_matrix(sc_immune_ref.X)\n",
    "sc_nonim_ref.X = sparse.csr_matrix(sc_nonim_ref.X)\n",
    "# Make gene names unique\n",
    "sc_immune_ref.var_names_make_unique()\n",
    "sc_nonim_ref.var_names_make_unique()\n",
    "\n",
    "#Concatenate two anndata objects\n",
    "sc_ref = sc_immune_ref.concatenate(sc_nonim_ref,batch_key = \"Sample\", join = \"outer\")\n",
    "#Rename to remove the last two characters generated during concatenation\n",
    "sc_ref.obs.index = sc_ref.obs.index.str[:-2]\n",
    "# Renaming the \"Sample\" column to Dataset_no\n",
    "sc_ref.obs = sc_ref.obs.rename(columns={'Sample': 'Dataset_no'})\n",
    "# Replace '.' with '-' in the index names\n",
    "sc_ref.obs.index = sc_ref.obs.index.str.replace('.', '-', regex=False)"
   ]
  },
  {
   "cell_type": "markdown",
   "id": "5788275d-09f8-4942-9118-6c88ba34d43c",
   "metadata": {},
   "source": [
    "Metadata transfer"
   ]
  },
  {
   "cell_type": "code",
   "execution_count": 4,
   "id": "c02d1881-2f89-4a85-864c-42354cee9e2e",
   "metadata": {},
   "outputs": [],
   "source": [
    "immune_meta = pd.read_csv(spa_path+acc_no+\"scRNA/GSM7058754_immune_meta.txt.gz\", sep='\\t', compression='gzip', index_col = 0)\n",
    "nonim_meta = pd.read_csv(spa_path+acc_no+\"scRNA/GSM7058755_non_immune_meta.txt.gz\", sep='\\t', compression='gzip', index_col = 0)\n",
    "#Modify metadata\n",
    "immune_meta = immune_meta.drop(['nCount_antibody', 'nFeature_antibody'], axis=1)\n",
    "nonim_meta = nonim_meta.drop(['integrated_snn_res.0.1'], axis=1)\n",
    "nonim_meta[\"samples\"] = \"NA\"\n",
    "#Merging two metadata\n",
    "combined_meta = pd.concat([immune_meta, nonim_meta], ignore_index=False)\n",
    "# Ensure both DataFrames have the same index\n",
    "sc_ref.obs = sc_ref.obs.join(combined_meta)"
   ]
  },
  {
   "cell_type": "markdown",
   "id": "64c32182-e499-484e-bef1-b076ccdd5373",
   "metadata": {},
   "source": [
    "General cell type annotation"
   ]
  },
  {
   "cell_type": "code",
   "execution_count": 5,
   "id": "f64ee481-8108-4fc5-90d6-3a4b3e34d0cf",
   "metadata": {},
   "outputs": [],
   "source": [
    "# Function to annotate general cell types based on \"cluster\"\n",
    "def annotate_general_cell_type(cluster_name):\n",
    "    first_char = cluster_name[0]\n",
    "    first_two_chars = cluster_name[:2]\n",
    "    fifth_char = cluster_name[4] if len(cluster_name) >= 5 else None\n",
    "\n",
    "    if first_two_chars == \"Tu\":\n",
    "        return \"Tumor\"\n",
    "    elif first_char == \"T\":\n",
    "        return \"T\"\n",
    "    elif first_char == \"N\":\n",
    "        return \"NK\"\n",
    "    elif first_char == \"B\":\n",
    "        if fifth_char == \"p\":\n",
    "            return \"Plasma\"\n",
    "        elif fifth_char in [\"B\", \"G\"]:\n",
    "            return \"B\"\n",
    "    elif first_char == \"E\":\n",
    "        return \"Endothelial_cell\"\n",
    "    elif first_char == \"F\":\n",
    "        return \"Fibroblast\"\n",
    "    else:\n",
    "        return \"Myeloid\"\n",
    "\n",
    "sc_ref.obs['general_cell_type'] = sc_ref.obs['cluster'].apply(annotate_general_cell_type)"
   ]
  },
  {
   "cell_type": "markdown",
   "id": "340f755e-d3c6-4979-8f46-3dc05f8cbee7",
   "metadata": {},
   "source": [
    "Anndata object saving"
   ]
  },
  {
   "cell_type": "code",
   "execution_count": 8,
   "id": "abab1a1c-38a2-4824-99ae-7a9ec7d149ca",
   "metadata": {},
   "outputs": [],
   "source": [
    "sc_ref.write_h5ad(spa_path+acc_no+\"scRNA/sc_ref.h5ad\")"
   ]
  },
  {
   "cell_type": "code",
   "execution_count": null,
   "id": "e55dade8-599d-4fd7-9096-971350858cf2",
   "metadata": {},
   "outputs": [],
   "source": []
  }
 ],
 "metadata": {
  "kernelspec": {
   "display_name": "scvi-env",
   "language": "python",
   "name": "scvi-env"
  },
  "language_info": {
   "codemirror_mode": {
    "name": "ipython",
    "version": 3
   },
   "file_extension": ".py",
   "mimetype": "text/x-python",
   "name": "python",
   "nbconvert_exporter": "python",
   "pygments_lexer": "ipython3",
   "version": "3.12.2"
  }
 },
 "nbformat": 4,
 "nbformat_minor": 5
}
