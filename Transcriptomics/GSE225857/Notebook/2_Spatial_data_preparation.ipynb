{
 "cells": [
  {
   "cell_type": "code",
   "execution_count": 1,
   "id": "521d3b9c-4397-41b9-b371-3d795248e09c",
   "metadata": {},
   "outputs": [
    {
     "name": "stderr",
     "output_type": "stream",
     "text": [
      "/users/mp01950/.conda/envs/scvi-env/lib/python3.12/site-packages/tqdm/auto.py:21: TqdmWarning: IProgress not found. Please update jupyter and ipywidgets. See https://ipywidgets.readthedocs.io/en/stable/user_install.html\n",
      "  from .autonotebook import tqdm as notebook_tqdm\n"
     ]
    }
   ],
   "source": [
    "import matplotlib.pyplot as plt\n",
    "import numpy as np\n",
    "import scanpy as sc\n",
    "import scvi\n",
    "import seaborn as sns\n",
    "import pandas as pd"
   ]
  },
  {
   "cell_type": "markdown",
   "id": "e59f592b-d243-4d98-a8b0-eda7aa891ad7",
   "metadata": {},
   "source": [
    "Path setup"
   ]
  },
  {
   "cell_type": "code",
   "execution_count": 2,
   "id": "5fea3de1-a081-4aad-b6be-1474f9f8e3b1",
   "metadata": {},
   "outputs": [],
   "source": [
    "slice_name = \"C1\"\n",
    "spa_path = \"/parallel_scratch/mp01950/Hybrid_cell_spatial/\"\n",
    "acc_no = \"GSE225857/\"\n",
    "slice_loc = \"spatial/\"+slice_name+\"/\"\n",
    "full_slice_path = spa_path+acc_no+slice_loc"
   ]
  },
  {
   "cell_type": "markdown",
   "id": "c8ed7473-74b3-4cc7-9eba-037d6264f773",
   "metadata": {},
   "source": [
    "Spatial data loading & modification"
   ]
  },
  {
   "cell_type": "code",
   "execution_count": 3,
   "id": "3a4994ac-17b1-4e8e-b68f-5221f3131597",
   "metadata": {},
   "outputs": [],
   "source": [
    "#Loading spatial data\n",
    "st_adata=sc.read_mtx(full_slice_path+\"GSM7058756_\"+slice_name+\".matrix.mtx.gz\")\n",
    "st_adata_bc=pd.read_csv(full_slice_path+\"GSM7058756_\"+slice_name+\".barcodes.tsv.gz\", header=None)\n",
    "st_adata_features=pd.read_csv(full_slice_path+\"GSM7058756_\"+slice_name+\".features.tsv.gz\",header=None, sep='\\t')\n",
    "st_position=pd.read_csv(full_slice_path+\"GSM7058756_\"+slice_name+'_tissue_positions_list.csv', header=None)\n",
    "st_position=st_position[st_position.iloc[:, 1] == 1]\n",
    "st_position = st_position.sort_values(by=st_position.columns[0])\n",
    "st_adata = st_adata.T\n",
    "st_adata.var_names = st_adata_features[1].tolist()\n",
    "st_adata.var['gene_ids']= st_adata_features[0].tolist()\n",
    "st_adata.var['feature_types']= st_adata_features[2].tolist()\n",
    "st_adata.obs.index = st_adata_bc.iloc[:,0]\n",
    "st_adata.var_names_make_unique()\n",
    "st_adata.obs[\"array_row\"]=st_position[2].tolist()\n",
    "st_adata.obs[\"array_col\"]=st_position[3].tolist()\n",
    "st_position.index=st_position[0].tolist()\n",
    "st_adata.obsm[\"spatial\"]=st_position.iloc[:, [4,5]].values\n",
    "st_adata.obs.index.name = None"
   ]
  },
  {
   "cell_type": "code",
   "execution_count": 4,
   "id": "915bc495-9462-4a3f-b922-17eccabc10cc",
   "metadata": {},
   "outputs": [],
   "source": [
    "st_adata.write_h5ad(full_slice_path+slice_name+\".h5ad\")"
   ]
  },
  {
   "cell_type": "code",
   "execution_count": null,
   "id": "4b417125-7c83-4adc-acc2-2c5553b94881",
   "metadata": {},
   "outputs": [],
   "source": []
  }
 ],
 "metadata": {
  "kernelspec": {
   "display_name": "scvi-env",
   "language": "python",
   "name": "scvi-env"
  },
  "language_info": {
   "codemirror_mode": {
    "name": "ipython",
    "version": 3
   },
   "file_extension": ".py",
   "mimetype": "text/x-python",
   "name": "python",
   "nbconvert_exporter": "python",
   "pygments_lexer": "ipython3",
   "version": "3.12.2"
  }
 },
 "nbformat": 4,
 "nbformat_minor": 5
}
